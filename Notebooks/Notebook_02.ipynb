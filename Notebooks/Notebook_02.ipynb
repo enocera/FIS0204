{
 "cells": [
  {
   "cell_type": "markdown",
   "id": "6316de2e",
   "metadata": {},
   "source": [
    "# Notebook 2: Statistics\n",
    "<script\n",
    "  src=\"https://cdn.mathjax.org/mathjax/latest/MathJax.js?config=TeX-AMS-MML_HTMLorMML\"\n",
    "  type=\"text/javascript\">\n",
    "</script>"
   ]
  },
  {
   "cell_type": "markdown",
   "id": "a06a91f7",
   "metadata": {},
   "source": [
    "## Exercise 1: convolution of two Gaussian distributions\n",
    "Show that the convolution of two Gaussian probability distributions is a Gaussian probability distribution, that is\n",
    "\\begin{equation}\n",
    "p(y)=\\mathcal{N}(x_1|\\mu_1,\\sigma_1^2)\\otimes\\mathcal{N}(x_2|\\mu_2,\\sigma_2^2)=\\mathcal{N}\n",
    "(y|\\mu_1+\\mu_2,\\sigma_1^2+\\sigma_2^2)\n",
    "\\nonumber\n",
    "\\end{equation}\n",
    "with $y=x_1+x_2$, $x_1\\sim\\mathcal{N}(\\mu_1,\\sigma_1^2)$ and $x_2\\sim\\mathcal{N}(\\mu_2,\\sigma_2^2)$.\n",
    "\n",
    "### Solution\n",
    "The exercise can be solved in two different ways. The first way consists in computing explicitly the convolution integral. The second way consists in applying the Fourier transform to the convolution of the two distributions; the convolutional product then becomes an ordinary product; once the ordinary product is performed, the result can be anti-Fourier transformed. Below one can find the explicit computation of the convolutional integral.\n",
    "\\begin{align}\n",
    "I & = \\int_{-\\infty}^{+\\infty}p_1(x_1)p_2(y-x_1)dx_1\\\\ \n",
    "  & = \\frac{1}{2\\pi}\\frac{1}{\\sigma_1\\sigma_2}\\int_{-\\infty}^{+\\infty}e^{-\\frac{(x_1-\\mu_1)^2}{2\\sigma_1^2}}e^{-\\frac{(y-x_1-\\mu_2)^2}{2\\sigma_2^2}}dx_1\\\\\n",
    "  & = \\frac{1}{2\\pi}\\frac{1}{\\sigma_1\\sigma_2}\\int_{-\\infty}^{+\\infty}e^{-\\frac{1}{2}\\left(\\frac{(x_1-\\mu_1)^2}{\\sigma_1^2}+\\frac{(y-x_1-\\mu_2)^2}{\\sigma_2^2} \\right)}.\n",
    "\\end{align}\n",
    "Ricalling that\n",
    "$$\\int_{-\\infty}^{+\\infty}e^{-bx^2+cx+d}dx=\\sqrt{\\frac{\\pi}{b}}e^{\\left(\\frac{c^2}{4b}+d \\right)}$$\n",
    "it follows, from some elementary algebra, that\n",
    "$$I=\\frac{1}{\\sqrt{2\\pi(\\sigma_1^2+\\sigma_2^2)}}e^{-\\frac{1}{2}\\frac{(y-(\\mu_1+\\mu_2))^2}{\\sigma_!^2+\\sigma_2^2}}.$$"
   ]
  },
  {
   "cell_type": "markdown",
   "id": "6f1637d4",
   "metadata": {},
   "source": [
    "## Exercise 2: variance of the sum of two random variables\n",
    "Show that the variance of the sum of two random variables $X$ and $Y$ is given by\n",
    "$$\\mathbb{V}[X+Y]=\\mathbb{V}[X]+\\mathbb{V}[Y]+2Cov[X,Y],$$\n",
    "where $Cov[X,Y]$ is the covariance matrix of the random variables $X$ and $Y$.\n",
    "\n",
    "### Solution\n",
    "With some simple algebra, one can write:\n",
    "\\begin{align}\n",
    "\\mathbb{V}[X+Y] & = \\mathbb{E}[(X+Y)^2]-(\\mathbb{E}[X+Y])^2\\\\\n",
    "                & = \\mathbb{E}[X^2+Y^2+2XY]-(\\mathbb{E}[X]+\\mathbb{E}[Y])^2\\\\\n",
    "                & = \\mathbb{E}[X^2]+\\mathbb{E}[Y^2] +2\\mathbb{E}[XY]-(\\mathbb{E}[X])^2-(\\mathbb{E}[Y])^2-2\\mathbb{E}[X]\\mathbb{E}[Y]\\\\\n",
    "                & = \\mathbb{V}[X]+\\mathbb{V}[Y]+2Cov[X,Y].\n",
    "\\end{align}\n",
    "Note that, in the last equality, the definitions of variance and covariance of the random variables $X$ and $Y$ have been used."
   ]
  },
  {
   "cell_type": "markdown",
   "id": "ac917ed5",
   "metadata": {},
   "source": [
    "## Exercise 3: zero correlation does not imply independence\n",
    "Let $X$ be a randm variable with uniform distribution in the interval $[-1,1]$ and $Y$ a random variable such that \n",
    "$Y=X^2$. The two variables are clearly not independent. Show that the two random variables are not correlated, that is $\\rho(X,Y)=0$.\n",
    "\n",
    "### Solution\n",
    "The correlation between two random variables $X$ e $Y$ is defined as\n",
    "$$\\rho=corr[X,Y]=\\frac{Cov[X,Y]}{\\sqrt{\\mathbb{V}[X]\\mathbb{V}[Y]}},$$\n",
    "where the covaraince matrix is\n",
    "$$Cov[X,Y]=\\mathbb{E}[XY]-\\mathbb{E}[X]\\mathbb{E}[Y].$$\n",
    "For the random variables $X$ and $Y=X^2$, we must determine\n",
    "$$Cov[X,X^2]=\\mathbb{E}[X^3]-\\mathbb{E}[X]\\mathbb{E}[X^2]\\quad {\\rm and} \\quad \\mathbb{V}[X]\\mathbb{V}[X^2].$$\n",
    "Recalling that\n",
    "$$\\mathbb{E}[X]=\\int_\\Omega xp(x) dx \\quad {\\rm e} \\quad \\mathbb{V}[X]=\\int_\\Omega (x-\\mathbb{E}[X])^2p(x) dx,$$\n",
    "with $\\Omega$ the domain of the random variable $X$, it is sufficient to determine the probability density function for the random variables $X$, $X^2$ e $X^3$.\n",
    "- For $X$: we know that $p(x)$ is uniform in the interval $x\\in[-1,1]$. Requiring that the probability density is normalised to one, and setting $p(x)=\\kappa$, we can compute\n",
    "$$\\int_{-1}^1\\kappa dx=1\\Longleftrightarrow 2\\kappa=1\\Longleftrightarrow \\kappa=\\frac{1}{2}.$$\n",
    "therefore $p(x)=1/2$. It follows that \n",
    "$$\\mathbb{E}[X]=\\int_{-1}^1 x p(x) dx = \\frac{1}{2}\\int_{-1}^1 x dx = \\frac{1}{2}\\left.\\frac{x^2}{2}\\right|_{-1}^{1}=0$$\n",
    "and that\n",
    "$$\\mathbb{V}[X]=\\int_{-1}^1 x^2 p(x) dx = \\frac{1}{2}\\int_{-1}^1 x^2 dx = \\frac{1}{2}\\left.\\frac{x^3}{3}\\right|_{-1}^{1}=\\frac{1}{3}.$$\n",
    "- For $X^2$: being $Y=X^2$, the domain of the random variable $Y$ is $y\\in[0,1]$. Then one can compute\n",
    "$$\\mathbb{E}[X^2]=\\int_0^1 y p(y) dy = \\int_0^1 x^2 p(x) 2x dx = \\int_0^1 x^3 dx = \\left.\\frac{x^4}{4}\\right|_0^1 =\\frac{1}{4}$$\n",
    "and\n",
    "$$\\mathbb{V}[X^2]=\\int_0^1 \\left(y-\\frac{1}{4}\\right)^2 p(y) dy = \\int_0^1 \\left(x^2-\\frac{1}{4}\\right)^2 p(x) 2x dx = \\int_0^1 \\left(x^5-\\frac{1}{2}x^3+\\frac{1}{16}x\\right) dx = \\left.\\frac{x^6}{6}\\right|_0^1-\\left.\\frac{x^4}{8}\\right|_0^1+\\left.\\frac{x^2}{32}\\right|_0^1 \\approx 0.07.$$\n",
    "- For $X^3$: being $Z=X^3$, the domain of the random variable $Z$ is $z\\in[-1,1]$. Then one can compute\n",
    "$$\\mathbb{E}[X^3]=\\int_{-1}^1 z p(z) dz = \\int_{-1}^1 x^3 p(x) 3x^2 dx = \\frac{3}{2}\\int_{-1}^1 x^5dx = \\left.\\frac{x^6}{4}\\right|_{-1}^1 =0.$$\n",
    "\n",
    "Replacing these results in the definition of covariance matrix, one gets $Cov[X,X^2]=0$. It follows that the correlation between the random variables $X$ and $Y=X^2$ is also zero."
   ]
  },
  {
   "cell_type": "markdown",
   "id": "9e254e80",
   "metadata": {},
   "source": [
    "## Esercise 4: two linearly dependent random variables have unit correlation\n",
    "Show that, given a random variable $X$ and a random variable $Y$ which depends linearly on $X$, $Y=aX+b$, their Pearson correlation coefficient is $\\rho(X,Y)=+1$ for $a>0$ and $\\rho(X,Y)=-1$ for $a<0$.\n",
    "\n",
    "### Solution\n",
    "Let us recall the definition of Pearson correlation between two random variables\n",
    "$$\\rho=corr[X,Y]=\\frac{Cov[X,Y]}{\\sqrt{\\mathbb{V}[X]\\mathbb{V}[Y]}}$$\n",
    "where the covariance matrix is defined as\n",
    "$$Cov[X,Y]=\\mathbb{E}[XY]-\\mathbb{E}[X]\\mathbb{E}[Y].$$\n",
    "Given the linear dependence of $X$ and $Y$, one can write\n",
    "$$\\mathbb{E}[Y]=\\mathbb{E}[aX+b]=a\\mathbb{E}[X]+b$$\n",
    "$$\\mathbb{E}[XY]=\\mathbb{E}[aX^2+bX]=a\\mathbb{E}[X^2]+b\\mathbb{E}[X].$$\n",
    "It follows that\n",
    "$$Cov[X,Y]=a\\mathbb{E}[X^2]+b\\mathbb{E}[X]-a(\\mathbb{E}[X])^2-b\\mathbb{E}[X]=a(\\mathbb{E}[X^2]-(\\mathbb{E}[X])^2)=a\\mathbb{V}[X].$$\n",
    "Furthermore\n",
    "$$\\mathbb{V}[Y]=\\mathbb{V}[aX+b]=a^2\\mathbb{V}[X]$$\n",
    "therefore\n",
    "$$\\rho=\\frac{a\\mathbb{V}[X]}{|a|\\mathbb{V}[X]}=|a|$$\n",
    "from which it follows that\n",
    "$$\\rho=+1\\qquad{\\rm for}\\ a>0;$$\n",
    "$$\\rho=-1\\qquad{\\rm for}\\ a<0.$$"
   ]
  },
  {
   "cell_type": "code",
   "execution_count": null,
   "id": "1282b6d2",
   "metadata": {},
   "outputs": [],
   "source": []
  }
 ],
 "metadata": {
  "kernelspec": {
   "display_name": "Python 3 (ipykernel)",
   "language": "python",
   "name": "python3"
  },
  "language_info": {
   "codemirror_mode": {
    "name": "ipython",
    "version": 3
   },
   "file_extension": ".py",
   "mimetype": "text/x-python",
   "name": "python",
   "nbconvert_exporter": "python",
   "pygments_lexer": "ipython3",
   "version": "3.9.7"
  }
 },
 "nbformat": 4,
 "nbformat_minor": 5
}

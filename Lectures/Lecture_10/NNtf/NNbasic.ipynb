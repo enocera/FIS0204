{
 "cells": [
  {
   "cell_type": "code",
   "execution_count": null,
   "id": "e5680760",
   "metadata": {},
   "outputs": [],
   "source": [
    "import numpy as np\n",
    "import matplotlib.pyplot as plt\n",
    "\n",
    "import tensorflow as tf\n",
    "from tensorflow.keras import activations\n",
    "\n",
    "from keras.models import Sequential\n",
    "from keras.layers import Dense, Activation\n",
    "from keras.optimizers import Adam\n",
    "# for 2nd attempt\n",
    "from keras.initializers import glorot_uniform\n",
    "from keras.callbacks import EarlyStopping\n",
    "\n",
    "import keras.backend as K"
   ]
  },
  {
   "cell_type": "markdown",
   "id": "6ff836ef",
   "metadata": {},
   "source": [
    "# Setting up and training a 1d Neural Network in tensorflow\n",
    "\n",
    "## Aim\n",
    "To learn the basic notation for implementing multi-layer artificial Neural Networks using Keras/TensorFlow. The function in this case is the curve: \n",
    "\n",
    "$f(x) = \\sin(x)$"
   ]
  },
  {
   "cell_type": "code",
   "execution_count": null,
   "id": "2c34bd71",
   "metadata": {},
   "outputs": [],
   "source": [
    "# let's choose a simple 1->1 function to train\n",
    "def f(x):\n",
    "    return np.sin(x)**2"
   ]
  },
  {
   "cell_type": "code",
   "execution_count": null,
   "id": "bb444def",
   "metadata": {},
   "outputs": [],
   "source": [
    "# check it works...\n",
    "print(f(np.pi/2))"
   ]
  },
  {
   "cell_type": "code",
   "execution_count": null,
   "id": "61984b0d",
   "metadata": {},
   "outputs": [],
   "source": [
    "# evaluate some data points\n",
    "datasize = 5000\n",
    "datapoints = np.linspace(-2,2,datasize)\n",
    "datavalues = f(datapoints)\n",
    "data = np.transpose([datapoints,datavalues])"
   ]
  },
  {
   "cell_type": "code",
   "execution_count": null,
   "id": "5c7383e4",
   "metadata": {},
   "outputs": [],
   "source": [
    "# plot the data points to see how they are distributed\n",
    "plt.plot(datapoints, datavalues, 'bo')\n",
    "plt.xlim([-2,2])\n",
    "plt.ylabel('f')\n",
    "plt.xlabel('x');"
   ]
  },
  {
   "cell_type": "code",
   "execution_count": null,
   "id": "d3cc6437",
   "metadata": {},
   "outputs": [],
   "source": [
    "# Initialise model: 1-N-1\n",
    "hiddenlayerdepth = 4\n",
    "model = Sequential([\n",
    "    Dense(hiddenlayerdepth, activation='tanh', input_shape=(1,)),\n",
    "    Dense(1)\n",
    "])\n",
    "\n",
    "model.compile(\n",
    "    optimizer = 'adam',\n",
    "    loss = 'mean_squared_error')"
   ]
  },
  {
   "cell_type": "code",
   "execution_count": null,
   "id": "8c1a592a",
   "metadata": {},
   "outputs": [],
   "source": [
    "# demonstration of how to take slices of numpy arrays\n",
    "print(data[0:2,0])\n",
    "print(data[0:2,1])\n",
    "print(f(1.20030495))"
   ]
  },
  {
   "cell_type": "code",
   "execution_count": null,
   "id": "b10ee825",
   "metadata": {},
   "outputs": [],
   "source": [
    "## split into testing and training sets 20:80\n",
    "print(len(data))\n",
    "split = int(len(data)*80/100)\n",
    "print(split)"
   ]
  },
  {
   "cell_type": "code",
   "execution_count": null,
   "id": "ba109bad",
   "metadata": {},
   "outputs": [],
   "source": [
    "# fit the model with the data and save the information about the training\n",
    "history = model.fit(\n",
    "    data[0:split,0],\n",
    "    data[0:split,1],\n",
    "    epochs=150,\n",
    "    validation_data=(data[split:,0], data[split:,1]),\n",
    "    verbose=1\n",
    ")"
   ]
  },
  {
   "cell_type": "code",
   "execution_count": null,
   "id": "a0653530",
   "metadata": {},
   "outputs": [],
   "source": [
    "# now we can plot the history to see how the loss function for the\n",
    "# training and validation set changed with epoch\n",
    "plt.plot(history.history['loss'])\n",
    "plt.plot(history.history['val_loss'])\n",
    "plt.title('model loss')\n",
    "plt.ylabel('loss')\n",
    "plt.xlabel('epoch')\n",
    "plt.legend(['train', 'validation'], loc='upper left')\n",
    "plt.show()"
   ]
  },
  {
   "cell_type": "code",
   "execution_count": null,
   "id": "7f8b7794",
   "metadata": {},
   "outputs": [],
   "source": [
    "print(model.predict([1]))\n",
    "print(f(1))\n",
    "\n",
    "print(model.predict([0.1]))\n",
    "print(f(0.1))"
   ]
  },
  {
   "cell_type": "code",
   "execution_count": null,
   "id": "a71f25a7",
   "metadata": {},
   "outputs": [],
   "source": [
    "datapoints2 = np.linspace(-2,2,1000)\n",
    "datavalues2 = f(datapoints2)\n",
    "datavaluespred = model.predict(datapoints2)"
   ]
  },
  {
   "cell_type": "code",
   "execution_count": null,
   "id": "b1adf05c",
   "metadata": {},
   "outputs": [],
   "source": [
    "plt.plot(datapoints2, datavalues2, 'bo')\n",
    "plt.plot(datapoints2, datavaluespred, 'ro')\n",
    "plt.xlim([-2,2])\n",
    "plt.ylabel('f')\n",
    "plt.xlabel('x');"
   ]
  },
  {
   "cell_type": "markdown",
   "id": "56088fbc",
   "metadata": {},
   "source": [
    "# Let's try again with a more complicated model"
   ]
  },
  {
   "cell_type": "code",
   "execution_count": null,
   "id": "41657fa9",
   "metadata": {},
   "outputs": [],
   "source": [
    "# try again with early stopping criteria\n",
    "tf.keras.backend.clear_session()"
   ]
  },
  {
   "cell_type": "code",
   "execution_count": null,
   "id": "668e22a5",
   "metadata": {},
   "outputs": [],
   "source": [
    "# Initialise model: 1-16-16-1\n",
    "model2 = Sequential([\n",
    "    Dense(4, activation='tanh', input_shape=(1,)),\n",
    "    Dense(4, activation='tanh', input_shape=(1,)),\n",
    "    Dense(1)\n",
    "])\n",
    "\n",
    "model2.compile(\n",
    "    optimizer = 'adam',\n",
    "    loss = 'mean_squared_error')"
   ]
  },
  {
   "cell_type": "code",
   "execution_count": null,
   "id": "d812a5c8",
   "metadata": {},
   "outputs": [],
   "source": [
    "ES = EarlyStopping(\n",
    "    monitor='val_loss',\n",
    "    min_delta=0,\n",
    "    patience=100,\n",
    "    verbose=1,\n",
    "    restore_best_weights=True)\n",
    "\n",
    "history2 = model2.fit(\n",
    "    data[0:split,0],\n",
    "    data[0:split,1],\n",
    "    epochs=500,\n",
    "    validation_data=(data[split:,0], data[split:,1]),\n",
    "    callbacks=[ES],\n",
    "    batch_size=128,\n",
    "    verbose=0\n",
    ")"
   ]
  },
  {
   "cell_type": "code",
   "execution_count": null,
   "id": "28d9d1e4",
   "metadata": {},
   "outputs": [],
   "source": [
    "plt.plot(history2.history['loss'])\n",
    "plt.plot(history2.history['val_loss'])\n",
    "plt.title('model loss')\n",
    "plt.ylabel('loss')\n",
    "plt.xlabel('epoch')\n",
    "plt.legend(['train', 'validation'], loc='upper left')\n",
    "plt.show()"
   ]
  },
  {
   "cell_type": "code",
   "execution_count": null,
   "id": "4ba0b6a9",
   "metadata": {},
   "outputs": [],
   "source": [
    "datavaluespred2 = model2.predict(datapoints2)\n",
    "\n",
    "plt.plot(datapoints2, datavalues2, 'bo')\n",
    "plt.plot(datapoints2, datavaluespred, 'ro')\n",
    "plt.plot(datapoints2, datavaluespred2, 'go')\n",
    "plt.xlim([-2,2])\n",
    "plt.ylabel('f')\n",
    "plt.xlabel('x');"
   ]
  },
  {
   "cell_type": "markdown",
   "id": "ee8a9748",
   "metadata": {},
   "source": [
    "# Questions\n",
    "\n",
    "1. Is 5000 points a sensible sample size? How do the fits change if you reduce or increase the data set?\n",
    "2. Is the 2nd model better of worse the the simple model with one hidden layer? What if we increase the number of nodes in the single hidden layer of the first model?\n",
    "3. What does the argument 'batch_size' do? What is a good value that optimises the training?\n",
    "4. Vary the early stopping parameters to see how they effect the training\n",
    "5. What is the effect of changing the activation function?"
   ]
  },
  {
   "cell_type": "code",
   "execution_count": null,
   "id": "3c2ba3ec",
   "metadata": {},
   "outputs": [],
   "source": []
  }
 ],
 "metadata": {
  "kernelspec": {
   "display_name": "Python 3",
   "language": "python",
   "name": "python3"
  },
  "language_info": {
   "codemirror_mode": {
    "name": "ipython",
    "version": 3
   },
   "file_extension": ".py",
   "mimetype": "text/x-python",
   "name": "python",
   "nbconvert_exporter": "python",
   "pygments_lexer": "ipython3",
   "version": "3.6.13"
  }
 },
 "nbformat": 4,
 "nbformat_minor": 5
}

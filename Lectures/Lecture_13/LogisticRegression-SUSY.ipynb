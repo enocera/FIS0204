{
 "cells": [
  {
   "cell_type": "markdown",
   "metadata": {},
   "source": [
    "#  Tutorial 3: SUSY Dataset - Introduction to Logistic Regression #\n"
   ]
  },
  {
   "cell_type": "markdown",
   "metadata": {},
   "source": [
    "## Source\n",
    "\n",
    "https://github.com/drckf/mlreview_notebooks/tree/master/jupyter_notebooks/notebooks\n",
    "\n",
    "## Learning Goals ##\n",
    "This notebook will serve as an introduction to the logistic regression and will let us compare linear and non-linear models as well as different methods of regularization for the training of the model.\n",
    "\n",
    "## Overview ##\n",
    "Throughout, we will work with the [SUSY dataset](https://archive.ics.uci.edu/ml/machine-learning-databases/00279/SUSY.csv.gz). It is available from the [UCI Machine Learning Repository](https://archive.ics.uci.edu/ml/datasets.html), which is a very comprehensive repository of useful datasets relevant to ML.\n",
    "\n",
    "Here is the description of the SUSY dataset we will be playing around with for this notebook:\n",
    ">The data has been produced using Monte Carlo simulations and contains events with two leptons (electrons or muons). In high energy physics experiments, such as the ATLAS and CMS detectors at the CERN LHC, one major hope is the discovery of new particles. To accomplish this task, physicists attempt to sift through data events and classify them as either a signal of some new physics process or particle, or instead a background event from understood Standard Model processes. Unfortunately we will never know for sure what underlying physical process happened (the only information to which we have access are the final state particles). However, we can attempt to define parts of phase space that will have a high percentage of signal events. Typically this is done by using a series of simple requirements on the kinematic quantities of the final state particles, for example having one or more leptons with large amounts of momentum that is transverse to the beam line ($p_{T}$). Here instead we will use logistic regression in order to attempt to find out the relative probability that an event is from a signal or a background event and rather than using the kinematic quantities of final state particles directly we will use the output of our logistic regression to define a part of phase space that is enriched in signal events. The dataset we are using has the value of 18 kinematic variables (\"features\") of the event. The first 8 features are direct measurements of final state particles, in this case the $p_{T}$, pseudo-rapidity ($\\eta$), and azimuthal angle ($\\phi$) of two leptons in the event and the amount of missing transverse momentum (MET) together with its azimuthal angle. The last ten features are functions of the first 8 features; these are high-level features derived by physicists to help discriminate between the two classes. You can think of them as physicists attempt to use non-linear functions to classify signal and background events and they have been developed with a lot of deep thinking on the part of physicist. There is however, an interest in using deep learning methods to obviate the need for physicists to manually develop such features. Benchmark results using Bayesian Decision Trees from a standard physics package and 5-layer neural networks and the dropout algorithm are presented in the original paper to compare the ability of deep-learning to bypass the need of using such high level features. We will also explore this topic in later notebooks. The dataset consists of 5 million events. For now 1,500,000 we will use for training the model and 50,000 examples will be used as a test set.\n",
    "\n",
    "This dataset comes from this interesting paper by the UCI group: <cite> P. Baldi, P. Sadowski, and D. Whiteson. \"Searching for Exotic Particles in High-energy Physics with Deep Learning.\" Nature Communications 5 (July 2, 2014)</cite>.\n",
    "\n",
    "## Categorical data/Classification Tasks ##\n",
    "\n",
    "So far, we have largely focused on supervised learning tasks such as linear regression, where the goal is to make predictions about continuous labels. Often, we are also interested in classification tasks -- where the goal is to assign samples to categories. The training data consists of a set of features and discrete labels. This type of data is called categorical data (the data comes in different categories). \n",
    "\n",
    "Initially, we will focus on a binary classification task. In the SUSY dataset, the goal is to decide whether a data point represents signal \"potential collision\"- labeled 1, or \"background\"(Standard Model processes which produce final states with similar constituents as SUSY processes) - labeled 0. This is done by looking at 18 features - the first 8 of which are \"low-level\" features that can be directly measured and the last 10 features are \"higher-order\" features constructed using physics intuition. In more detail:\n",
    ">The first column is the class label (1 for signal, 0 for background), followed by the 18 features (8 low-level features then 10 high-level features):: lepton 1 pT, lepton 1 eta, lepton 1 phi, lepton 2 pT, lepton 2 eta, lepton 2 phi, missing energy magnitude, missing energy phi, MET_rel, axial MET, M_R, M_TR_2, R, MT2, S_R, M_Delta_R, dPhi_r_b, cos(theta_r1)\n",
    "\n",
    "Our goal will be to use either the first 8 features or the full 18 features to predict whether an event is signal or background.\n",
    "\n",
    "## Logistic Regression ##\n",
    "\n",
    "\n",
    "One of the best understood and canonical methods for performing such a task is Logistic Regression. We will see that a deep understanding of Logistic regression will introduce us to many of the ideas and techniques at the forefront of modern Machine Learning. In Logistic regression, each set of features $\\mathbf{x}_i$ is associated with a category $C_i\\in\\{1,0\\}$, with $i=1\\ldots n$. It is helpful to re-define $\\mathbf{x}$ to be an extended vector $\\mathbf{x}\\rightarrow (1,\\mathbf{x})$ (which just accounts for an intercept, see Sec. VI of the review). Then, the Likelihood function for Logistic regression is given by the sigmoid function\n",
    "\n",
    "$$\n",
    "P(c_i=1)=1-P(c_i=0)= {1 \\over 1+ e^{-\\mathbf{w}\\cdot \\mathbf{x}_i}},\n",
    "$$\n",
    "\n",
    "where $\\mathbf{w}$ are the weights that define the logistic regression. Notice that this is just the Fermi function with $\\beta E=-\\mathbf{w}\\cdot \\mathbf{x}$.\n",
    "\n",
    "\n",
    "As in Sec. VI of the review, we will maximize the Log-likelihood of the observed data. Let us define the function\n",
    "$$\n",
    "f(a)={1 \\over 1+ e^{-a}},\n",
    "$$\n",
    "Notice that the derivative with respect to $a$ is given by\n",
    "$$\n",
    "{df \\over da}= f(1-f).\n",
    "$$\n",
    "\n",
    "Define $f_i \\equiv f(\\mathbf{w}\\cdot \\mathbf{x}_i)$. Then, the Likelihood of the data $\\{ \\mathbf{x}_i, C_i \\}$ is given by\n",
    "$$\n",
    "P(Data|\\mathbf{x})= \\prod_{i=1}^n f_i^{C_i}(1-f_i)^{1-C_i}\n",
    "$$\n",
    "and the log-likelihood is given by\n",
    "$$\n",
    "\\log{P(Data|\\mathbf{w})}= \\sum_{i=1}^n C_i \\log f_i + (1-C_i)\\log(1-f_i)\n",
    "$$\n",
    "\n",
    "The negative of the log-likelihood gives us the cross-entropy error function\n",
    "$$\n",
    "\\mathrm{Cross\\,Entropy}=E(\\mathbf{w})= -\\sum_{i=1}^n C_i \\log f_i + (1-C_i)\\log(1-f_i).\n",
    "$$\n",
    "\n",
    "Using the formula above notice that\n",
    "$$\n",
    "\\nabla E(\\mathbf{w})=\\sum_{i=1}^n (f_i-C_i)\\mathbf{x}_i.\n",
    "$$\n",
    "In other words, the gradient points in the sum of training example directions weighted by the difference between the true label and the probability of predicting that label.\n",
    "\n",
    "\n",
    "\n",
    "## Finding the MLE Estimate ##\n",
    "\n",
    "Notice the Maximum-Likelihood Estimation (MLE) is the same as minimizing the cross-entropy. There is no closed form expression for this. One strategy is to start with an arbitrary $\\mathbf{w}$ and then update our estimate based on our error function. In particular, we would like to nudge $\\mathbf{w}$ in the direction where the error is decreasing the fastest. This is the idea behind gradient descent. Furthermore, we can show that the cross-entropy error function used in logistic regression has a unique minimum. Thus, we can perform this procedure with relative ease (However, as a word of caution, note there is a generic instability in the MLE procedure for linearly separable data).\n",
    "\n",
    "Theoretically, one nice method for doing this is the <i> Newton-Raphson </i> method. In this method, we iteratively calculate the gradient \n",
    "$$\n",
    "\\mathbf{w}^{new} \\leftarrow \\mathbf{w}^{old} - \\mathbf{H}^{-1} \\nabla E(\\mathbf{w}),\n",
    "$$\n",
    "where $\\mathbf{H}$ is the Hessian matrix which is the second derivative of the energy function. For OLS linear regression, one can show that this procedure yields the right answer.\n",
    "\n",
    "More generally, there are a number of generalizations of this idea that have been proposed. We will refer to these kinds of methods as generalized gradient descent methods and discuss them extensively in what follows."
   ]
  },
  {
   "cell_type": "markdown",
   "metadata": {},
   "source": [
    "# Importing the SUSY data set with Pandas\n",
    "\n",
    "In what follows, we use Pandas to import the first N_TRAIN examples as training data and the subsequent N_TEST examples as testing data."
   ]
  },
  {
   "cell_type": "code",
   "execution_count": 1,
   "metadata": {},
   "outputs": [],
   "source": [
    "N_TRAIN = 100000\n",
    "N_TEST = 50000"
   ]
  },
  {
   "cell_type": "code",
   "execution_count": 2,
   "metadata": {
    "tags": []
   },
   "outputs": [
    {
     "name": "stdout",
     "output_type": "stream",
     "text": [
      "Data parsing is done!\n"
     ]
    }
   ],
   "source": [
    "# Importing the SUSY Data set\n",
    "import sys, os\n",
    "import pandas as pd\n",
    "import numpy as np\n",
    "import warnings\n",
    "import gzip, io, requests\n",
    "import time\n",
    "\n",
    "#Comment the next line on to turn off warnings\n",
    "warnings.filterwarnings('ignore')\n",
    "\n",
    "seed=12\n",
    "np.random.seed(seed)\n",
    "\n",
    "# To get the data set in a workable format, we can use two different methods.\n",
    "\n",
    "# Method 1 (advised for Jupyter Notebook)\n",
    "\n",
    "# Download the data SUSY.csv (about 2GB) one single time from UCI ML archive\n",
    "# and save it in the same directory as this notebook or in the appropriate drive folder\n",
    "\n",
    "# Origin data: https://archive.ics.uci.edu/ml/machine-learning-databases/00279/SUSY.csv.gz\n",
    "\n",
    "filename=\"SUSY.csv.gz\"\n",
    "columns=[\"signal\", \"lepton 1 pT\", \"lepton 1 eta\", \"lepton 1 phi\", \"lepton 2 pT\", \"lepton 2 eta\", \n",
    "         \"lepton 2 phi\", \"missing energy magnitude\", \"missing energy phi\", \"MET_rel\", \n",
    "          \"axial MET\", \"M_R\", \"M_TR_2\", \"R\", \"MT2\", \"S_R\", \"M_Delta_R\", \"dPhi_r_b\", \"cos(theta_r1)\"]\n",
    "\n",
    "# Load N_TRAIN rows as train data, N_TEST as test data\n",
    "df_train = pd.read_csv(filename,names=columns,nrows=N_TRAIN,engine='python')\n",
    "df_test = pd.read_csv(filename,names=columns,nrows=N_TEST, skiprows=N_TRAIN,engine='python')\n",
    "\n",
    "\n",
    "# Method 2 (advised for Google Colab)\n",
    "\n",
    "# download using url\n",
    "\n",
    "#url = 'https://archive.ics.uci.edu/ml/machine-learning-databases/00279/SUSY.csv.gz'\n",
    "#columns=[\"signal\", \"lepton 1 pT\", \"lepton 1 eta\", \"lepton 1 phi\", \"lepton 2 pT\", \"lepton 2 eta\", \n",
    "#         \"lepton 2 phi\", \"missing energy magnitude\", \"missing energy phi\", \"MET_rel\", \n",
    "#         \"axial MET\", \"M_R\", \"M_TR_2\", \"R\", \"MT2\", \"S_R\", \"M_Delta_R\", \"dPhi_r_b\", \"cos(theta_r1)\"]\n",
    "\n",
    "#web_response = requests.get(url, timeout=30, stream=True)\n",
    "#csv_gz_file = web_response.content # Content in bytes from requests.get\n",
    "                                     # See comments below why this is used.\n",
    "\n",
    "#f = io.BytesIO(csv_gz_file)\n",
    "#with gzip.GzipFile(fileobj=f) as filename:\n",
    "    # Passing a binary file to csv.reader works in PY2\n",
    "    #reader = csv.reader(fh)\n",
    "\n",
    "    # Load N_TRAIN rows as train data, N_TEST as test data\n",
    "#    df_train=pd.read_csv(filename,names=columns,nrows=N_TRAIN,engine='python')\n",
    "#    df_test=pd.read_csv(filename,names=columns,nrows=N_TEST, skiprows=N_TRAIN,engine='python')\n",
    "\n",
    "\n",
    "print(\"Data parsing is done!\")"
   ]
  },
  {
   "cell_type": "code",
   "execution_count": 3,
   "metadata": {},
   "outputs": [
    {
     "data": {
      "text/html": [
       "<div>\n",
       "<style scoped>\n",
       "    .dataframe tbody tr th:only-of-type {\n",
       "        vertical-align: middle;\n",
       "    }\n",
       "\n",
       "    .dataframe tbody tr th {\n",
       "        vertical-align: top;\n",
       "    }\n",
       "\n",
       "    .dataframe thead th {\n",
       "        text-align: right;\n",
       "    }\n",
       "</style>\n",
       "<table border=\"1\" class=\"dataframe\">\n",
       "  <thead>\n",
       "    <tr style=\"text-align: right;\">\n",
       "      <th></th>\n",
       "      <th>signal</th>\n",
       "      <th>lepton 1 pT</th>\n",
       "      <th>lepton 1 eta</th>\n",
       "      <th>lepton 1 phi</th>\n",
       "      <th>lepton 2 pT</th>\n",
       "      <th>lepton 2 eta</th>\n",
       "      <th>lepton 2 phi</th>\n",
       "      <th>missing energy magnitude</th>\n",
       "      <th>missing energy phi</th>\n",
       "      <th>MET_rel</th>\n",
       "      <th>axial MET</th>\n",
       "      <th>M_R</th>\n",
       "      <th>M_TR_2</th>\n",
       "      <th>R</th>\n",
       "      <th>MT2</th>\n",
       "      <th>S_R</th>\n",
       "      <th>M_Delta_R</th>\n",
       "      <th>dPhi_r_b</th>\n",
       "      <th>cos(theta_r1)</th>\n",
       "    </tr>\n",
       "  </thead>\n",
       "  <tbody>\n",
       "    <tr>\n",
       "      <th>0</th>\n",
       "      <td>0.0</td>\n",
       "      <td>0.972861</td>\n",
       "      <td>0.653855</td>\n",
       "      <td>1.176225</td>\n",
       "      <td>1.157156</td>\n",
       "      <td>-1.739873</td>\n",
       "      <td>-0.874309</td>\n",
       "      <td>0.567765</td>\n",
       "      <td>-0.175000</td>\n",
       "      <td>0.810061</td>\n",
       "      <td>-0.252552</td>\n",
       "      <td>1.921887</td>\n",
       "      <td>0.889637</td>\n",
       "      <td>0.410772</td>\n",
       "      <td>1.145621</td>\n",
       "      <td>1.932632</td>\n",
       "      <td>0.994464</td>\n",
       "      <td>1.367815</td>\n",
       "      <td>0.040714</td>\n",
       "    </tr>\n",
       "    <tr>\n",
       "      <th>1</th>\n",
       "      <td>1.0</td>\n",
       "      <td>1.667973</td>\n",
       "      <td>0.064191</td>\n",
       "      <td>-1.225171</td>\n",
       "      <td>0.506102</td>\n",
       "      <td>-0.338939</td>\n",
       "      <td>1.672543</td>\n",
       "      <td>3.475464</td>\n",
       "      <td>-1.219136</td>\n",
       "      <td>0.012955</td>\n",
       "      <td>3.775174</td>\n",
       "      <td>1.045977</td>\n",
       "      <td>0.568051</td>\n",
       "      <td>0.481928</td>\n",
       "      <td>0.000000</td>\n",
       "      <td>0.448410</td>\n",
       "      <td>0.205356</td>\n",
       "      <td>1.321893</td>\n",
       "      <td>0.377584</td>\n",
       "    </tr>\n",
       "    <tr>\n",
       "      <th>2</th>\n",
       "      <td>1.0</td>\n",
       "      <td>0.444840</td>\n",
       "      <td>-0.134298</td>\n",
       "      <td>-0.709972</td>\n",
       "      <td>0.451719</td>\n",
       "      <td>-1.613871</td>\n",
       "      <td>-0.768661</td>\n",
       "      <td>1.219918</td>\n",
       "      <td>0.504026</td>\n",
       "      <td>1.831248</td>\n",
       "      <td>-0.431385</td>\n",
       "      <td>0.526283</td>\n",
       "      <td>0.941514</td>\n",
       "      <td>1.587535</td>\n",
       "      <td>2.024308</td>\n",
       "      <td>0.603498</td>\n",
       "      <td>1.562374</td>\n",
       "      <td>1.135454</td>\n",
       "      <td>0.180910</td>\n",
       "    </tr>\n",
       "    <tr>\n",
       "      <th>3</th>\n",
       "      <td>1.0</td>\n",
       "      <td>0.381256</td>\n",
       "      <td>-0.976145</td>\n",
       "      <td>0.693152</td>\n",
       "      <td>0.448959</td>\n",
       "      <td>0.891753</td>\n",
       "      <td>-0.677328</td>\n",
       "      <td>2.033060</td>\n",
       "      <td>1.533041</td>\n",
       "      <td>3.046260</td>\n",
       "      <td>-1.005285</td>\n",
       "      <td>0.569386</td>\n",
       "      <td>1.015211</td>\n",
       "      <td>1.582217</td>\n",
       "      <td>1.551914</td>\n",
       "      <td>0.761215</td>\n",
       "      <td>1.715464</td>\n",
       "      <td>1.492257</td>\n",
       "      <td>0.090719</td>\n",
       "    </tr>\n",
       "    <tr>\n",
       "      <th>4</th>\n",
       "      <td>1.0</td>\n",
       "      <td>1.309996</td>\n",
       "      <td>-0.690089</td>\n",
       "      <td>-0.676259</td>\n",
       "      <td>1.589283</td>\n",
       "      <td>-0.693326</td>\n",
       "      <td>0.622907</td>\n",
       "      <td>1.087562</td>\n",
       "      <td>-0.381742</td>\n",
       "      <td>0.589204</td>\n",
       "      <td>1.365479</td>\n",
       "      <td>1.179295</td>\n",
       "      <td>0.968218</td>\n",
       "      <td>0.728563</td>\n",
       "      <td>0.000000</td>\n",
       "      <td>1.083158</td>\n",
       "      <td>0.043429</td>\n",
       "      <td>1.154854</td>\n",
       "      <td>0.094859</td>\n",
       "    </tr>\n",
       "  </tbody>\n",
       "</table>\n",
       "</div>"
      ],
      "text/plain": [
       "   signal  lepton 1 pT  lepton 1 eta  lepton 1 phi  lepton 2 pT  lepton 2 eta  \\\n",
       "0     0.0     0.972861      0.653855      1.176225     1.157156     -1.739873   \n",
       "1     1.0     1.667973      0.064191     -1.225171     0.506102     -0.338939   \n",
       "2     1.0     0.444840     -0.134298     -0.709972     0.451719     -1.613871   \n",
       "3     1.0     0.381256     -0.976145      0.693152     0.448959      0.891753   \n",
       "4     1.0     1.309996     -0.690089     -0.676259     1.589283     -0.693326   \n",
       "\n",
       "   lepton 2 phi  missing energy magnitude  missing energy phi   MET_rel  \\\n",
       "0     -0.874309                  0.567765           -0.175000  0.810061   \n",
       "1      1.672543                  3.475464           -1.219136  0.012955   \n",
       "2     -0.768661                  1.219918            0.504026  1.831248   \n",
       "3     -0.677328                  2.033060            1.533041  3.046260   \n",
       "4      0.622907                  1.087562           -0.381742  0.589204   \n",
       "\n",
       "   axial MET       M_R    M_TR_2         R       MT2       S_R  M_Delta_R  \\\n",
       "0  -0.252552  1.921887  0.889637  0.410772  1.145621  1.932632   0.994464   \n",
       "1   3.775174  1.045977  0.568051  0.481928  0.000000  0.448410   0.205356   \n",
       "2  -0.431385  0.526283  0.941514  1.587535  2.024308  0.603498   1.562374   \n",
       "3  -1.005285  0.569386  1.015211  1.582217  1.551914  0.761215   1.715464   \n",
       "4   1.365479  1.179295  0.968218  0.728563  0.000000  1.083158   0.043429   \n",
       "\n",
       "   dPhi_r_b  cos(theta_r1)  \n",
       "0  1.367815       0.040714  \n",
       "1  1.321893       0.377584  \n",
       "2  1.135454       0.180910  \n",
       "3  1.492257       0.090719  \n",
       "4  1.154854       0.094859  "
      ]
     },
     "execution_count": 3,
     "metadata": {},
     "output_type": "execute_result"
    }
   ],
   "source": [
    "#show a snippet of the training data that we have just downloaded\n",
    "df_train.head()"
   ]
  },
  {
   "cell_type": "markdown",
   "metadata": {},
   "source": [
    "# Logistic Regression with scikit-learn packages\n",
    "\n",
    "Let us define some functions to do the actual training for us and will let them take the number of features as an input parameter.\n",
    "\n",
    "We'll be mainly using:\n",
    "\n",
    "1. Multi-layer Perceptron classifier. (comes with L2 regularization)\n",
    "2. Linear classifiers with SGD (stochastic gradient descent) training. (comes with L1 and L2 regularization)\n"
   ]
  },
  {
   "cell_type": "markdown",
   "metadata": {},
   "source": [
    "See https://scikit-learn.org/stable/modules/generated/sklearn.neural_network.MLPClassifier.html\n",
    "\n",
    "in particular:\n",
    "\n",
    "alpha (float), default=0.0001\n",
    "Strength of the L2 regularization term. The L2 regularization term is divided by the sample size when added to the loss."
   ]
  },
  {
   "cell_type": "code",
   "execution_count": 4,
   "metadata": {},
   "outputs": [],
   "source": [
    "%matplotlib inline\n",
    "import matplotlib as mpl\n",
    "import matplotlib.pyplot as plt\n",
    "import sys\n",
    "#import ml_style as style #optional styling sheet\n",
    "#mpl.rcParams.update(style.style) #optional styling sheet\n",
    "\n",
    "def getTrainData(nVar):\n",
    "    designMatrix = df_train.iloc[:,1:nVar+1].values\n",
    "    #now the signal\n",
    "    labels = df_train['signal'].values # labels (0 or 1)\n",
    "    return (designMatrix,labels)\n",
    "\n",
    "def getTestData(nVar):\n",
    "    designMatrix = df_test.iloc[:,1:nVar+1].values\n",
    "    #now the signal\n",
    "    labels = df_test['signal'].values\n",
    "    return (designMatrix,labels)\n",
    "\n",
    "# define function to build roc curve\n",
    "# there's also in-built functions from:\n",
    "# sklearn.metrics import roc_curve, roc_auc_score\n",
    "# usage: fpr, tpr, thresholds = roc_curve(true_labels, predicted_probabilities)\n",
    "def build_roc_curve(probs, signal_bit, threshes):\n",
    "    # Convert things to a pandas series to build a DataFrame\n",
    "    # which will make ROC curve logic easier to express\n",
    "    signal_probs = pd.Series(probs[:,1])\n",
    "    signal_true = pd.Series(signal_bit)\n",
    "    signal_df = pd.DataFrame(signal_probs, columns=['sig_prob'])\n",
    "    signal_df.loc[:,'sig_true'] = signal_true\n",
    "    Acceptance = []\n",
    "    Rejection = []\n",
    "    for thresh in threshes:\n",
    "        # define acceptance\n",
    "        signal_df.loc[:,'accept'] = signal_df['sig_prob'] > thresh\n",
    "        # sum over data frame with slicing conditions\n",
    "        nSigCor = len(signal_df[(signal_df['accept']) & (signal_df['sig_true']==1.)])\n",
    "        nSig = len(signal_df[signal_df['sig_true']==1.])\n",
    "        # This code is wrong - the number of FP is the right quantity\n",
    "        #nBkgCor = len(signal_df[ (signal_df['sig_true']==0.) & (~signal_df['accept'])])\n",
    "        # this version is fixed\n",
    "        nBkgCor = len(signal_df[ (signal_df['sig_true']==0.) & (signal_df['accept'])])\n",
    "        nBkg = len(signal_df[signal_df['sig_true']==0.])\n",
    "        Acceptance.append(nSigCor*1./nSig) # True positive rate\n",
    "        Rejection.append(nBkgCor*1./nBkg) # False positive rate\n",
    "\n",
    "    return Acceptance, Rejection\n",
    "\n",
    "from sklearn.neural_network import MLPClassifier\n",
    "from sklearn.linear_model import SGDClassifier\n",
    "\n",
    "from sklearn.metrics import roc_curve, roc_auc_score\n",
    "\n",
    "def runSciKitNNRegression(nVar, alpha):\n",
    "    X_train, y_train = getTrainData(nVar)\n",
    "    X_test, y_test = getTestData(nVar)\n",
    "    clf = MLPClassifier(alpha=alpha,max_iter=5).fit(X_train,y_train)\n",
    "    predictions = clf.predict(X_test)\n",
    "    print('MLP+L2: Accuracy on test data with alpha %.2E : %.3f' %(alpha,clf.score(X_test,y_test)) )\n",
    "    probs = clf.predict_proba(X_test)\n",
    "\n",
    "    #get signal acceptance and background rejection\n",
    "    thresholds = np.arange(0,1,.01)\n",
    "\n",
    "    Acceptance, Rejection = build_roc_curve(probs, y_test, thresholds)\n",
    "    \n",
    "    fpr, tpr, thresholds2 = roc_curve(y_test, probs[:,1])\n",
    "    return (probs, Acceptance, Rejection, fpr, tpr)\n",
    "\n",
    "def runSciKitRegressionL1(nVar,alpha):\n",
    "    X_train, y_train = getTrainData(nVar)\n",
    "    X_test, y_test = getTestData(nVar)\n",
    "    clf = SGDClassifier(loss=\"log\", penalty=\"l1\",alpha=alpha,max_iter=5,tol=None)\n",
    "    clf.fit(X_train,y_train.ravel())\n",
    "    predictions = clf.predict(X_test)\n",
    "    print('SGD+L1: Accuracy on test data with alpha %.2E : %.3f' %(alpha,clf.score(X_test,y_test)) )\n",
    "    probs = clf.predict_proba(X_test)\n",
    "\n",
    "    #get signal acceptance and background rejection\n",
    "    thresholds = np.arange(0,1,.01)\n",
    "    Acceptance, Rejection = build_roc_curve(probs, y_test, thresholds)\n",
    "    return (probs,Acceptance,Rejection)\n",
    "\n",
    "def runSciKitRegressionL2(nVar, alpha):\n",
    "    X_train, y_train = getTrainData(nVar)\n",
    "    X_test, y_test = getTestData(nVar)\n",
    "    clf = SGDClassifier(loss=\"log\", penalty=\"l2\",alpha=alpha,max_iter=5,tol=None)\n",
    "    clf.fit(X_train,y_train.ravel())\n",
    "    predictions = clf.predict(X_test)\n",
    "    print('SGD+L2: Accuracy on test data with alpha %.2E : %.3f' %(alpha,clf.score(X_test,y_test)) )\n",
    "    probs = clf.predict_proba(X_test)\n",
    "\n",
    "    #get signal acceptance and background rejection\n",
    "    thresholds = np.arange(0,1,.01)\n",
    "    Acceptance, Rejection = build_roc_curve(probs, y_test, thresholds)\n",
    "    return (probs, Acceptance, Rejection)"
   ]
  },
  {
   "cell_type": "markdown",
   "metadata": {},
   "source": [
    "# Definitions\n",
    "\n",
    "## 1. What is AUC - ROC Curve?\n",
    "\n",
    "AUC - ROC curve is a performance measurement for classification problem at various thresholds settings. ROC is a probability curve and AUC represents degree or measure of separability. It tells how much model is capable of distinguishing between classes. Higher the AUC, better the model is at predicting 0s as 0s and 1s as 1s. By analogy, Higher the AUC, better the model is.\n",
    "\n",
    "More information here: https://towardsdatascience.com/understanding-auc-roc-curve-68b2303cc9c5\n",
    "\n",
    "## 2. Regularisation\n",
    "\n",
    "A regression model that uses L1 regularization technique is called Lasso Regression and model which uses L2 is called Ridge Regression.\n",
    "\n",
    "### 2a. What is L1 regularisation?\n",
    "\n",
    "Lasso (L1) shrinks the less important feature’s coefficient to zero thus, **removing some features altogether**.\n",
    "This in turn **reduces the model complexity**, making our model simpler. **A simpler model can reduce the chances of overfitting**.\n",
    "L1 regularisation is defined as \n",
    "$$ ||w||_1 = (|w_1| + |w_2| + ...) $$\n",
    "\n",
    "### 2b. What is L2 regularisation?\n",
    "\n",
    "Overfitting is a phenomenon that occurs when a machine learning or statistics model is tailored to a particular dataset and is unable to generalise to other datasets. This usually happens in complex models, like deep neural networks.\n",
    "Regularisation is a process of introducing additional information in order to **prevent overfitting**. \n",
    "\n",
    "A network with large network weights can be a sign of an unstable network where small changes in the input can lead to large changes in the output. This can be a sign that the network has overfit the training dataset and will likely perform poorly when making predictions on new data.\n",
    "\n",
    "A solution to this problem is to update the learning algorithm to encourage the network to keep the weights small. This is called weight regularization and it can be used as a general technique to reduce overfitting of the training dataset and improve the generalization of the model.\n",
    "\n",
    "L2 regularisation takes its name from `L2 norm of a vector w` defined as:\n",
    "$$ ||w||_2 = (w_1^2 + w_2^2 + ...)^{1/2} $$\n",
    "\n",
    "**L2 regularization shrinks the size of the parameters towards zero**.\n",
    "\n",
    "More information here: https://towardsdatascience.com/intuitions-on-l1-and-l2-regularisation-235f2db4c261#f810\n",
    "\n",
    "---\n",
    "\n",
    "When we say a loss function is L1 or L2 regularized, that means that the above terms are added to the loss function in function of the parameters to be optimized:\n",
    "$$ {\\rm Loss}_{\\rm regularized}(w) = {\\rm Loss}(w) + \\alpha*||w||_{1,2}$$\n",
    "\n",
    "---"
   ]
  },
  {
   "cell_type": "markdown",
   "metadata": {},
   "source": [
    "# Training with a Multi-layer Perceptron classifier (8 features)\n",
    "\n",
    "We now will run logistic regression using a Multi-layer Perceptron classifier on the SUSY data for both the simple features (first 8 features) and the full feature space. First we will start with only the low-level features. We will also investigate the use of [Ridge Regression](https://ncss-wpengine.netdna-ssl.com/wp-content/themes/ncss/pdf/Procedures/NCSS/Ridge_Regression.pdf) by testing the results as as function of the regularization parameter $\\alpha$. \n",
    "\n",
    "Now let's run using the first 8 variables only (the low-level features). Note: this will take several minutes !"
   ]
  },
  {
   "cell_type": "code",
   "execution_count": 10,
   "metadata": {},
   "outputs": [
    {
     "name": "stdout",
     "output_type": "stream",
     "text": [
      "MLP+L2: Accuracy on test data with alpha 1.00E-03 : 0.785\n",
      "AUC  =  0.8554032615474488\n"
     ]
    }
   ],
   "source": [
    "alpha = 10**-3\n",
    "\n",
    "X_train, y_train = getTrainData(8)\n",
    "X_test, y_test = getTestData(8)\n",
    "clf = MLPClassifier(alpha=alpha,max_iter=5).fit(X_train,y_train)\n",
    "predictions = clf.predict(X_test)\n",
    "print('MLP+L2: Accuracy on test data with alpha %.2E : %.3f' %(alpha,clf.score(X_test,y_test)) )\n",
    "probs = clf.predict_proba(X_test)\n",
    "\n",
    "#get signal acceptance and background rejection\n",
    "thresholds = np.arange(0,1,.01)\n",
    "Acceptance, Rejection = build_roc_curve(probs, y_test, thresholds)\n",
    "    \n",
    "fpr, tpr, thresholds2 = roc_curve(y_test, probs[:,1])\n",
    "print(\"AUC  = \", roc_auc_score(y_test, probs[:,1]))"
   ]
  },
  {
   "cell_type": "code",
   "execution_count": 11,
   "metadata": {},
   "outputs": [],
   "source": [
    "# Let's make the ROC curve by hand one time to check everything is as expected\n",
    "\n",
    "TT = np.linspace(0.,1., num=100)\n",
    "TP = []\n",
    "TN = []\n",
    "FP = []\n",
    "FN = []\n",
    "\n",
    "for tt in TT:\n",
    "    pos_pred = np.array([int(pp>tt) for pp in probs[:,1]])\n",
    "\n",
    "    test_classification = np.transpose([pos_pred,y_test]).tolist()\n",
    "    TP.append(test_classification.count([1.,1.]))\n",
    "    TN.append(test_classification.count([0.,0.]))\n",
    "    FP.append(test_classification.count([1.,0.]))\n",
    "    FN.append(test_classification.count([0.,1.]))"
   ]
  },
  {
   "cell_type": "code",
   "execution_count": 12,
   "metadata": {},
   "outputs": [
    {
     "data": {
      "text/plain": [
       "[<matplotlib.lines.Line2D at 0x15f499c10>]"
      ]
     },
     "execution_count": 12,
     "metadata": {},
     "output_type": "execute_result"
    },
    {
     "data": {
      "image/png": "[encoded data removed]",
      "text/plain": [
       "<Figure size 432x288 with 1 Axes>"
      ]
     },
     "metadata": {
      "needs_background": "light"
     },
     "output_type": "display_data"
    }
   ],
   "source": [
    "plt.plot(TT,TP)\n",
    "plt.plot(TT,FN)"
   ]
  },
  {
   "cell_type": "code",
   "execution_count": 15,
   "metadata": {},
   "outputs": [],
   "source": [
    "TPR = np.array(TP)/(np.array(TP)+np.array(FN))\n",
    "FPR = np.array(FP)/(np.array(FP)+np.array(TN))"
   ]
  },
  {
   "cell_type": "code",
   "execution_count": 16,
   "metadata": {},
   "outputs": [
    {
     "data": {
      "text/plain": [
       "[<matplotlib.lines.Line2D at 0x151c29820>]"
      ]
     },
     "execution_count": 16,
     "metadata": {},
     "output_type": "execute_result"
    },
    {
     "data": {
      "image/png": "[encoded data removed]",
      "text/plain": [
       "<Figure size 432x288 with 1 Axes>"
      ]
     },
     "metadata": {
      "needs_background": "light"
     },
     "output_type": "display_data"
    }
   ],
   "source": [
    "plt.plot(FPR,TPR)"
   ]
  },
  {
   "cell_type": "code",
   "execution_count": 17,
   "metadata": {},
   "outputs": [
    {
     "data": {
      "image/png": "[encoded data removed]",
      "text/plain": [
       "<Figure size 576x432 with 1 Axes>"
      ]
     },
     "metadata": {
      "needs_background": "light"
     },
     "output_type": "display_data"
    }
   ],
   "source": [
    "plt.figure(figsize=(8, 6))\n",
    "plt.plot(fpr, tpr, color='blue', lw=2, label='ROC curve')\n",
    "plt.plot(FPR, TPR, color='red', lw=2, label='ROC curve')\n",
    "plt.plot(np.array(Rejection), np.array(Acceptance), color='green', lw=2, label='Accept/Reject curve')\n",
    "plt.plot([0, 1], [0, 1], color='gray', linestyle='--')\n",
    "plt.xlim([0.0, 1.0])\n",
    "plt.ylim([0.0, 1.05])\n",
    "plt.xlabel('False Positive Rate (FPR)')\n",
    "plt.ylabel('True Positive Rate (TPR)')\n",
    "plt.title('Receiver Operating Characteristic (ROC) Curve')\n",
    "plt.legend(loc='lower right')\n",
    "plt.show()"
   ]
  },
  {
   "cell_type": "code",
   "execution_count": 18,
   "metadata": {
    "scrolled": false,
    "tags": []
   },
   "outputs": [
    {
     "name": "stdout",
     "output_type": "stream",
     "text": [
      "MLP+L2: Accuracy on test data with alpha 1.00E-04 : 0.786\n",
      "MLP+L2: Accuracy on test data with alpha 1.00E-03 : 0.787\n",
      "MLP+L2: Accuracy on test data with alpha 1.00E-02 : 0.788\n",
      "MLP+L2: Accuracy on test data with alpha 1.00E-01 : 0.788\n",
      "MLP+L2: Accuracy on test data with alpha 1.00E+00 : 0.782\n",
      "MLP+L2: Accuracy on test data with alpha 1.00E+01 : 0.754\n",
      "MLP+L2: Accuracy on test data with alpha 1.00E+02 : 0.545\n",
      "MLP+L2: Accuracy on test data with alpha 1.00E+03 : 0.545\n",
      "MLP+L2: Accuracy on test data with alpha 1.00E+04 : 0.545\n"
     ]
    },
    {
     "data": {
      "image/png": "[encoded data removed]",
      "text/plain": [
       "<Figure size 720x720 with 1 Axes>"
      ]
     },
     "metadata": {
      "needs_background": "light"
     },
     "output_type": "display_data"
    }
   ],
   "source": [
    "import time\n",
    "\n",
    "start = time.time()\n",
    "\n",
    "#generate alphas from 10^-4 to 10^4\n",
    "alphas = np.logspace(-4,4,9)\n",
    "\n",
    "fig = plt.figure(figsize = (10,10))\n",
    "ax = fig.add_subplot(111)\n",
    "it=0\n",
    "\n",
    "for alpha in alphas:\n",
    "    #use different color scheme for each alpha\n",
    "    c1 = 1.*( float(it) % 3.)/3.0\n",
    "    c2 = 1.*( float(it) % 9.)/9.0\n",
    "    c3 = 1.*( float(it) % 27.)/27.0\n",
    "    \n",
    "    probs, TPR, FPR, fpr, tpr = runSciKitNNRegression(8,alpha)\n",
    "    ax.scatter(FPR, TPR,c=[[c1,c2,c3]],label='Alpha: %.1E' %alpha)    \n",
    "    it+=1\n",
    "\n",
    "\n",
    "ax.set_xlabel('FPR')\n",
    "ax.set_ylabel('TPR')\n",
    "plt.legend(loc='best', fontsize = 'medium');\n",
    "plt.show()"
   ]
  },
  {
   "cell_type": "markdown",
   "metadata": {},
   "source": [
    "---\n",
    "\n",
    "An accuracy of ~79% is pretty good! More important to a physics analysis is the ROC curve above. This allows physicists to define a part of phase space that has more or less signal acceptance, but also less or more background rejection. It is up to the individual analysts in particular searches to decide on the best working point for them.\n",
    "\n",
    "## Question 1: What does this plot tell you? How would the curve look as you approach a perfect classifier?\n",
    "\n",
    "---\n",
    "\n",
    "As you can see, using just the kinematic variables of the final state objects there is no need for regularization and in fact as we turn on the relative weights of the variables (as alpha goes to 1) we lose discrimination power.\n",
    "\n",
    "## Question 2: Why do you think this is the case?\n",
    "\n",
    "---"
   ]
  },
  {
   "cell_type": "code",
   "execution_count": 20,
   "metadata": {
    "tags": []
   },
   "outputs": [
    {
     "name": "stdout",
     "output_type": "stream",
     "text": [
      "MLP+L2: Accuracy on test data with alpha 1.00E-04 : 0.789\n"
     ]
    },
    {
     "data": {
      "text/plain": [
       "<AxesSubplot:ylabel='Frequency'>"
      ]
     },
     "execution_count": 20,
     "metadata": {},
     "output_type": "execute_result"
    },
    {
     "data": {
      "image/png": "[encoded data removed]",
      "text/plain": [
       "<Figure size 432x288 with 1 Axes>"
      ]
     },
     "metadata": {
      "needs_background": "light"
     },
     "output_type": "display_data"
    },
    {
     "data": {
      "image/png": "[encoded data removed]",
      "text/plain": [
       "<Figure size 432x288 with 1 Axes>"
      ]
     },
     "metadata": {
      "needs_background": "light"
     },
     "output_type": "display_data"
    }
   ],
   "source": [
    "# now let's investigate how mixed the events are\n",
    "probsSimple,accep,rej,fpr,tpr = runSciKitNNRegression(8,.0001)\n",
    "Signal = df_test['signal'].values\n",
    "\n",
    "df_test_acc = pd.DataFrame({'PROB':probsSimple[:,1]})\n",
    "df_test_acc['SIG']=Signal\n",
    "df_test_acc_sig = df_test_acc.query('SIG==1')\n",
    "df_test_acc_bkg = df_test_acc.query('SIG==0')\n",
    "df_test_acc_sig.plot(kind='hist',y='PROB',color='blue',alpha=0.5,bins=np.linspace(0,1,10),label='Signal')\n",
    "df_test_acc_bkg.plot(kind='hist',y='PROB',color='red',label='Background')"
   ]
  },
  {
   "cell_type": "markdown",
   "metadata": {},
   "source": [
    "---\n",
    "## Question 3: What does this plot tell you about the classification model?\n",
    "---"
   ]
  },
  {
   "cell_type": "markdown",
   "metadata": {},
   "source": [
    "# Training with a Multi-layer Perceptron classifier (all 18 features)"
   ]
  },
  {
   "cell_type": "code",
   "execution_count": null,
   "metadata": {
    "tags": []
   },
   "outputs": [],
   "source": [
    "alphas = np.logspace(-4,4,9)\n",
    "fig = plt.figure(figsize = (10,5))\n",
    "ax = fig.add_subplot(111)\n",
    "it=0\n",
    "for alpha in alphas:\n",
    "    c1 = 1.*( float(it) % 3.)/3.0\n",
    "    c2 = 1.*( float(it) % 9.)/9.0\n",
    "    c3 = 1.*( float(it) % 27.)/27.0\n",
    "    probs,accept,rej = runSciKitNNRegression(18,alpha)\n",
    "    ax.scatter(accept,rej,c=[[c1,c2,c3]],label='Alpha: %.1E' %alpha)\n",
    "    it+=1\n",
    "\n",
    "ax.set_xlabel('signal efficiency')\n",
    "ax.set_ylabel('background rejection')\n",
    "plt.legend(loc='lower left', fontsize = 'medium');\n",
    "plt.show()"
   ]
  },
  {
   "cell_type": "markdown",
   "metadata": {},
   "source": [
    "---\n",
    "Interestingly the accuracy barely improved! \n",
    "\n",
    "## Question 4: What can you conclude from this? Compute the difference in execution time between using 8 and 18 features and comment on whether you think it is worth it to use these 10 extra features in this problem.\n",
    "---\n"
   ]
  },
  {
   "cell_type": "code",
   "execution_count": null,
   "metadata": {
    "tags": []
   },
   "outputs": [],
   "source": [
    "# now let's investigate how mixed the events are\n",
    "probsSimple,accep,rej = runSciKitNNRegression(18,.0001)\n",
    "Signal = df_test['signal'].values\n",
    "\n",
    "df_test_acc = pd.DataFrame({'PROB':probsSimple[:,1]})\n",
    "df_test_acc['SIG']=Signal\n",
    "df_test_acc_sig = df_test_acc.query('SIG==1')\n",
    "df_test_acc_bkg = df_test_acc.query('SIG==0')\n",
    "df_test_acc_sig.plot(kind='hist',y='PROB',color='blue',alpha=0.5,bins=np.linspace(0,1,10),label='Signal')\n",
    "df_test_acc_bkg.plot(kind='hist',y='PROB',color='red',label='Background')"
   ]
  },
  {
   "cell_type": "markdown",
   "metadata": {},
   "source": [
    "## Question 5: Repeat the same exercice above but now with an SGDClassifier+L2 (directly with all 18 features). Does the Linear Classifer performs as good as Multi-layer Perceptron? Why is that?\n",
    "\n",
    "Note: Please do that in new cells, that would help you compare the plots.\n",
    "\n",
    "---\n",
    "## Question 6: Repeat the same exercice above but now with an SGDClassifier+L1 (directly with all 18 features). How Does SGD+L1 compares to SGD+L2?\n",
    "\n",
    "Note: Please do that in new cells, that would help you compare the plots.\n",
    "\n",
    "---\n",
    "## Question 7: What conclusions can you draw on the usage of L1 and L2 for this specific dataset?\n",
    "## a) What does these two regularisation methods tell us about the dataset?\n",
    "## b) What does these two regularisation methods tell us about the features of the dataset?\n",
    "## c) Which of these two regularisation methods is more suitable for the classification of this dataset?"
   ]
  },
  {
   "cell_type": "code",
   "execution_count": null,
   "metadata": {},
   "outputs": [],
   "source": []
  }
 ],
 "metadata": {
  "anaconda-cloud": {},
  "kernelspec": {
   "display_name": "Python 3 (ipykernel)",
   "language": "python",
   "name": "python3"
  },
  "language_info": {
   "codemirror_mode": {
    "name": "ipython",
    "version": 3
   },
   "file_extension": ".py",
   "mimetype": "text/x-python",
   "name": "python",
   "nbconvert_exporter": "python",
   "pygments_lexer": "ipython3",
   "version": "3.9.12"
  }
 },
 "nbformat": 4,
 "nbformat_minor": 1
}

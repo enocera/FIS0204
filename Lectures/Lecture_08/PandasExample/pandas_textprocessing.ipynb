{
 "cells": [
  {
   "cell_type": "markdown",
   "id": "0RY-VOtneh9w",
   "metadata": {
    "id": "0RY-VOtneh9w"
   },
   "source": [
    "# A simple example to demonstrate Pandas data frames\n",
    "\n",
    "[Pandas](https://pandas.pydata.org/) is a data analysis library for Python. The aim of this notebook is to read the summary page of the [Living Review of Machine Learning for Particle Physics](https://iml-wg.github.io/HEPML-LivingReview/) into a pandas data frame and perform some basic statistical analysis. We will read in the text and process with a language processing toolkit 'nltk'.\n",
    "\n",
    "We will try to answer the following questions\n",
    "\n",
    "* How many articles are included in the reivew?\n",
    "* What are the most common words in the article titles?\n",
    "* How do the trends in common terms change with arxiv date?\n"
   ]
  },
  {
   "cell_type": "code",
   "execution_count": null,
   "id": "a0e97c0f",
   "metadata": {
    "executionInfo": {
     "elapsed": 1612,
     "status": "ok",
     "timestamp": 1697814384920,
     "user": {
      "displayName": "Simon Badger",
      "userId": "02895886995126458953"
     },
     "user_tz": -120
    },
    "id": "a0e97c0f"
   },
   "outputs": [],
   "source": [
    "import re\n",
    "import string\n",
    "# natural language toolkit\n",
    "import nltk\n",
    "\n",
    "import pandas as pd\n",
    "import numpy as np\n",
    "import matplotlib.pyplot as plt\n",
    "\n",
    "from collections import Counter\n",
    "from nltk.tokenize import word_tokenize\n",
    "from nltk.corpus import stopwords"
   ]
  },
  {
   "cell_type": "code",
   "execution_count": null,
   "id": "66f2e86f",
   "metadata": {
    "colab": {
     "base_uri": "https://localhost:8080/"
    },
    "executionInfo": {
     "elapsed": 321,
     "status": "ok",
     "timestamp": 1697814387842,
     "user": {
      "displayName": "Simon Badger",
      "userId": "02895886995126458953"
     },
     "user_tz": -120
    },
    "id": "66f2e86f",
    "outputId": "28ced022-fd00-4881-b805-50fbe631c51a"
   },
   "outputs": [],
   "source": [
    "nltk.download('punkt')\n",
    "nltk.download('stopwords')\n",
    "\n",
    "STOP_WORDS = stopwords.words()"
   ]
  },
  {
   "cell_type": "code",
   "execution_count": null,
   "id": "676c9f18",
   "metadata": {
    "executionInfo": {
     "elapsed": 441,
     "status": "ok",
     "timestamp": 1697814389973,
     "user": {
      "displayName": "Simon Badger",
      "userId": "02895886995126458953"
     },
     "user_tz": -120
    },
    "id": "676c9f18"
   },
   "outputs": [],
   "source": [
    "%matplotlib inline"
   ]
  },
  {
   "cell_type": "code",
   "execution_count": null,
   "id": "6caw80hvcKII",
   "metadata": {
    "colab": {
     "base_uri": "https://localhost:8080/"
    },
    "executionInfo": {
     "elapsed": 339,
     "status": "ok",
     "timestamp": 1697814568138,
     "user": {
      "displayName": "Simon Badger",
      "userId": "02895886995126458953"
     },
     "user_tz": -120
    },
    "id": "6caw80hvcKII",
    "outputId": "707379b8-bbe5-48b0-d7c9-41afab2a2e0c"
   },
   "outputs": [],
   "source": [
    "# if using google colab\n",
    "!git clone https://github.com/enocera/FIS0204.git"
   ]
  },
  {
   "cell_type": "code",
   "execution_count": null,
   "id": "Az-9G7N_omnm",
   "metadata": {
    "colab": {
     "base_uri": "https://localhost:8080/"
    },
    "executionInfo": {
     "elapsed": 398,
     "status": "ok",
     "timestamp": 1697814690390,
     "user": {
      "displayName": "Simon Badger",
      "userId": "02895886995126458953"
     },
     "user_tz": -120
    },
    "id": "Az-9G7N_omnm",
    "outputId": "90061924-6fc4-481b-f4a8-7786d03838b1"
   },
   "outputs": [],
   "source": [
    "import sys\n",
    "sys.path.append('/content/FIS0204/Lectures/Lecture_08/PandasExample/')\n",
    "%cd /content/FIS0204/Lectures/Lecture_08/PandasExample/"
   ]
  },
  {
   "cell_type": "markdown",
   "id": "iuawMIEIkQtB",
   "metadata": {
    "id": "iuawMIEIkQtB"
   },
   "source": [
    "* First we defining a function which will clean spurious/useless text from each line"
   ]
  },
  {
   "cell_type": "code",
   "execution_count": null,
   "id": "a1a38e2c",
   "metadata": {
    "executionInfo": {
     "elapsed": 352,
     "status": "ok",
     "timestamp": 1697814700037,
     "user": {
      "displayName": "Simon Badger",
      "userId": "02895886995126458953"
     },
     "user_tz": -120
    },
    "id": "a1a38e2c"
   },
   "outputs": [],
   "source": [
    "def cleaning(text):\n",
    "    \"\"\"\n",
    "    Convert to lowercase.\n",
    "    remove URL links, special characters and punctuation.\n",
    "    Tokenize and remove stop words.\n",
    "    \"\"\"\n",
    "\n",
    "    text = re.sub('https?://\\S+|www\\.\\S+', '', text)\n",
    "    text = re.sub('<.*?>+', '', text)\n",
    "    text = re.sub('[%s]' % re.escape(string.punctuation), '', text)\n",
    "    text = re.sub('\\n', '', text)\n",
    "    text = re.sub('[’“”…]', '', text)\n",
    "\n",
    "    # removing the stop-words\n",
    "    text_tokens = word_tokenize(text)\n",
    "    tokens_without_sw = [\n",
    "        word for word in text_tokens if not word in STOP_WORDS]\n",
    "    filtered_sentence = (\" \").join(tokens_without_sw)\n",
    "    text = filtered_sentence\n",
    "\n",
    "    return text"
   ]
  },
  {
   "cell_type": "code",
   "execution_count": null,
   "id": "b8fb6ebb",
   "metadata": {
    "executionInfo": {
     "elapsed": 2,
     "status": "ok",
     "timestamp": 1697814700787,
     "user": {
      "displayName": "Simon Badger",
      "userId": "02895886995126458953"
     },
     "user_tz": -120
    },
    "id": "b8fb6ebb"
   },
   "outputs": [],
   "source": [
    "# README.md taken from https://github.com/iml-wg/HEPML-LivingReview\n",
    "with open('README.md', 'r') as file:\n",
    "        data = file.read()"
   ]
  },
  {
   "cell_type": "markdown",
   "id": "lNqjJNNipS59",
   "metadata": {
    "id": "lNqjJNNipS59"
   },
   "source": [
    "* Now read the whole file into a Pandas data frame which is split by line breaks"
   ]
  },
  {
   "cell_type": "code",
   "execution_count": null,
   "id": "24857791",
   "metadata": {
    "executionInfo": {
     "elapsed": 411,
     "status": "ok",
     "timestamp": 1697814708556,
     "user": {
      "displayName": "Simon Badger",
      "userId": "02895886995126458953"
     },
     "user_tz": -120
    },
    "id": "24857791"
   },
   "outputs": [],
   "source": [
    "df = pd.DataFrame([x.split(';') for x in data.split('\\n')])"
   ]
  },
  {
   "cell_type": "markdown",
   "id": "R7n-6UNypm_I",
   "metadata": {
    "id": "R7n-6UNypm_I"
   },
   "source": [
    "* Let's see what we've got with df.info()"
   ]
  },
  {
   "cell_type": "code",
   "execution_count": null,
   "id": "Yqm9Hyg5prB_",
   "metadata": {
    "colab": {
     "base_uri": "https://localhost:8080/"
    },
    "executionInfo": {
     "elapsed": 466,
     "status": "ok",
     "timestamp": 1697814856513,
     "user": {
      "displayName": "Simon Badger",
      "userId": "02895886995126458953"
     },
     "user_tz": -120
    },
    "id": "Yqm9Hyg5prB_",
    "outputId": "ff61f040-5783-4fe5-e155-746f18eab442"
   },
   "outputs": [],
   "source": [
    "df.info()"
   ]
  },
  {
   "cell_type": "markdown",
   "id": "6HrIbLUHp4IR",
   "metadata": {
    "id": "6HrIbLUHp4IR"
   },
   "source": [
    "From this we can see the number of lines and look at the their contents using df[<data #>]. From the line-by-line split there is only 1 data entry with two columns: line number and the text from that line"
   ]
  },
  {
   "cell_type": "code",
   "execution_count": null,
   "id": "4a09deb1",
   "metadata": {},
   "outputs": [],
   "source": [
    "df[0]"
   ]
  },
  {
   "cell_type": "markdown",
   "id": "c324c5a4",
   "metadata": {},
   "source": [
    "The Length is indicative of the number of articles but not exactly since there are alse section headings and other descriptions included.\n",
    "\n",
    "Q: Can you filter the text to find the number of articles?"
   ]
  },
  {
   "cell_type": "markdown",
   "id": "b902a7c6",
   "metadata": {},
   "source": [
    "## Counting occurances of keywords"
   ]
  },
  {
   "cell_type": "code",
   "execution_count": null,
   "id": "bae479c6",
   "metadata": {
    "executionInfo": {
     "elapsed": 3,
     "status": "ok",
     "timestamp": 1697814709195,
     "user": {
      "displayName": "Simon Badger",
      "userId": "02895886995126458953"
     },
     "user_tz": -120
    },
    "id": "bae479c6"
   },
   "outputs": [],
   "source": [
    "# Now put everything in lower case\n",
    "df['text'] = df[0].str.lower()"
   ]
  },
  {
   "cell_type": "code",
   "execution_count": null,
   "id": "42c0070e",
   "metadata": {
    "executionInfo": {
     "elapsed": 1997,
     "status": "ok",
     "timestamp": 1697814711190,
     "user": {
      "displayName": "Simon Badger",
      "userId": "02895886995126458953"
     },
     "user_tz": -120
    },
    "id": "42c0070e"
   },
   "outputs": [],
   "source": [
    "# and filter the words according to the rules definied above\n",
    "dt = df['text'].apply(cleaning)"
   ]
  },
  {
   "cell_type": "code",
   "execution_count": null,
   "id": "5b7d0893",
   "metadata": {
    "colab": {
     "base_uri": "https://localhost:8080/"
    },
    "executionInfo": {
     "elapsed": 3,
     "status": "ok",
     "timestamp": 1697814711190,
     "user": {
      "displayName": "Simon Badger",
      "userId": "02895886995126458953"
     },
     "user_tz": -120
    },
    "id": "5b7d0893",
    "outputId": "3f623252-eed6-4abb-8aa3-7b67966ab59c"
   },
   "outputs": [],
   "source": [
    "# now we can split into words and count the frequency\n",
    "word_count = Counter(\" \".join(dt).split()).most_common(30)\n",
    "word_frequency = pd.DataFrame(word_count, columns = ['Word', 'Frequency'])\n",
    "print(word_frequency)"
   ]
  },
  {
   "cell_type": "markdown",
   "id": "2b425800",
   "metadata": {},
   "source": [
    "# Looking at the appearance of keywords over time\n",
    "\n",
    "For this analysis, a new file was prepared by passing regular expression pattern matching on the original README.md using vim.\n",
    "\n",
    "Exercise: Achieve the same result processing only in Python"
   ]
  },
  {
   "cell_type": "code",
   "execution_count": null,
   "id": "4abe79f7",
   "metadata": {
    "id": "4abe79f7"
   },
   "outputs": [],
   "source": [
    "# process README.md in vim using\n",
    "# :g!/\\* \\[/d\n",
    "# :%s/* \\[\\([^]]*\\)\\]([^0-9]*.\\([0-9][0-9]\\)\\([0-9][0-9]\\).[0-9]*).*$/\"\\1\", \\2, \\3/\n",
    "# :%s/^\\s*//\n",
    "# :g/\\*/d\n",
    "# add top line - title, year, month\n",
    "# save as READMEtest.md\n",
    "df2 = pd.read_csv('READMEtest.md')"
   ]
  },
  {
   "cell_type": "code",
   "execution_count": null,
   "id": "e497299a",
   "metadata": {
    "id": "e497299a"
   },
   "outputs": [],
   "source": [
    "# thanks to the better formatting read_csv finds the column structure and\n",
    "# assigns the names accorinding to the headings provided\n",
    "df2.info()"
   ]
  },
  {
   "cell_type": "code",
   "execution_count": null,
   "id": "49272f19",
   "metadata": {
    "id": "49272f19"
   },
   "outputs": [],
   "source": [
    "# watch out for the space in ' year' and ' month' - bad preprocessing. Can you fix it?\n",
    "df2['title-clean'] = df2['title'].str.lower().apply(cleaning)\n",
    "df2['date'] = df2[' year'] + (df2[' month']-1)/12"
   ]
  },
  {
   "cell_type": "code",
   "execution_count": null,
   "id": "8e21e396",
   "metadata": {
    "id": "8e21e396",
    "scrolled": true
   },
   "outputs": [],
   "source": [
    "# filter by year using df.drop top look at the last year only\n",
    "df2filter_test  = df2.drop(df2[df2[' year']<23].index)[['title-clean','date']]\n",
    "df2filter_test.info()"
   ]
  },
  {
   "cell_type": "code",
   "execution_count": null,
   "id": "f20ababc",
   "metadata": {
    "id": "f20ababc"
   },
   "outputs": [],
   "source": [
    "# this is the list of words from before:\n",
    "word_frequency['Word']"
   ]
  },
  {
   "cell_type": "code",
   "execution_count": null,
   "id": "25becce2",
   "metadata": {
    "id": "25becce2"
   },
   "outputs": [],
   "source": [
    "# now we can filter by some common title keywords\n",
    "df2filter1 = df2.drop(df2[df2['title-clean'].str.contains( word_frequency['Word'][0] )==False].index)\n",
    "df2filter2 = df2.drop(df2[df2['title-clean'].str.contains( word_frequency['Word'][6] )==False].index)\n",
    "df2filter3 = df2.drop(df2[df2['title-clean'].str.contains( word_frequency['Word'][16] )==False].index)\n",
    "df2filter4 = df2.drop(df2[df2['title-clean'].str.contains( word_frequency['Word'][21] )==False].index)\n",
    "df2filter5 = df2.drop(df2[df2['title-clean'].str.contains( word_frequency['Word'][24] )==False].index)"
   ]
  },
  {
   "cell_type": "code",
   "execution_count": null,
   "id": "2ccff9d7",
   "metadata": {
    "id": "2ccff9d7"
   },
   "outputs": [],
   "source": [
    "# we can plot the appearnces of the most common word from 2010 to 2023\n",
    "mybins = np.histogram_bin_edges(df2filter1['date'], bins=50, range=(10,23))\n",
    "\n",
    "plt.hist(df2filter1['date'], density=False, bins=mybins, alpha=0.5, label=word_frequency['Word'][0])\n",
    "plt.xlim([10,23])\n",
    "plt.xlabel('date')\n",
    "plt.legend(loc='upper left')"
   ]
  },
  {
   "cell_type": "markdown",
   "id": "2e9e508a",
   "metadata": {},
   "source": [
    "# Exercise\n",
    "\n",
    "Make plot of the keywords appearing 6th, 16th, 21st and 28th most frequent of the last 10 years"
   ]
  }
 ],
 "metadata": {
  "colab": {
   "provenance": []
  },
  "kernelspec": {
   "display_name": "Python 3",
   "language": "python",
   "name": "python3"
  },
  "language_info": {
   "codemirror_mode": {
    "name": "ipython",
    "version": 3
   },
   "file_extension": ".py",
   "mimetype": "text/x-python",
   "name": "python",
   "nbconvert_exporter": "python",
   "pygments_lexer": "ipython3",
   "version": "3.6.13"
  }
 },
 "nbformat": 4,
 "nbformat_minor": 5
}
